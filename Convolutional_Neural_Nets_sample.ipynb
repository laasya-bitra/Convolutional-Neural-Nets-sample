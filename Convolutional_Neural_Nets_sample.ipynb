{
  "cells": [
    {
      "cell_type": "markdown",
      "metadata": {
        "id": "3Cw7e2mpkiNk"
      },
      "source": [
        "# Convolutional Neural Nets\n",
        "\n",
        "This notebook contains an example application of a convolutional neural net to the MNIST digits dataset."
      ]
    },
    {
      "cell_type": "code",
      "execution_count": 1,
      "metadata": {
        "id": "1KYAF7BikiNp"
      },
      "outputs": [],
      "source": [
        "import numpy as np\n",
        "import matplotlib.pyplot as plt\n",
        "%matplotlib inline\n",
        "import tensorflow\n",
        "from keras.datasets import mnist\n",
        "from keras.models import Sequential\n",
        "from keras.layers import Dense, Dropout, Flatten\n",
        "from keras.layers.convolutional import Conv2D, MaxPooling2D\n",
        "\n",
        "from keras.utils import np_utils\n",
        "from keras import backend as K"
      ]
    },
    {
      "cell_type": "code",
      "execution_count": 2,
      "metadata": {
        "colab": {
          "base_uri": "https://localhost:8080/"
        },
        "id": "3EMILBJ6kiNr",
        "outputId": "2a69112a-073e-46b1-a54d-60d7beac7114"
      },
      "outputs": [
        {
          "output_type": "stream",
          "name": "stdout",
          "text": [
            "tf.__version__ is 2.9.2\n",
            "tf.keras.__version__ is: 2.9.0\n"
          ]
        }
      ],
      "source": [
        "import tensorflow as tf\n",
        "import tensorflow.keras.backend as tfback\n",
        "print(\"tf.__version__ is\", tf.__version__)\n",
        "print(\"tf.keras.__version__ is:\", tf.keras.__version__)\n",
        "\n",
        "def _get_available_gpus():\n",
        "    \"\"\"Get a list of available gpu devices (formatted as strings).\n",
        "\n",
        "    # Returns\n",
        "        A list of available GPU devices.\n",
        "    \"\"\"\n",
        "    #global _LOCAL_DEVICES\n",
        "    if tfback._LOCAL_DEVICES is None:\n",
        "        devices = tf.config.list_logical_devices()\n",
        "        tfback._LOCAL_DEVICES = [x.name for x in devices]\n",
        "    return [x for x in tfback._LOCAL_DEVICES if 'device:gpu' in x.lower()]\n",
        "\n",
        "tfback._get_available_gpus = _get_available_gpus"
      ]
    },
    {
      "cell_type": "markdown",
      "metadata": {
        "id": "Cz2q9DBzkiNt"
      },
      "source": [
        "## Import the Data\n",
        "\n",
        "Keras expects the channels in the image data in the first column. "
      ]
    },
    {
      "cell_type": "code",
      "execution_count": 3,
      "metadata": {
        "colab": {
          "base_uri": "https://localhost:8080/"
        },
        "id": "9eBTFGBakiNt",
        "outputId": "903d1aca-90dd-4eb3-cc20-4a0b12c7a4c6"
      },
      "outputs": [
        {
          "output_type": "stream",
          "name": "stdout",
          "text": [
            "Downloading data from https://storage.googleapis.com/tensorflow/tf-keras-datasets/mnist.npz\n",
            "11490434/11490434 [==============================] - 0s 0us/step\n"
          ]
        },
        {
          "output_type": "execute_result",
          "data": {
            "text/plain": [
              "(28, 28)"
            ]
          },
          "metadata": {},
          "execution_count": 3
        }
      ],
      "source": [
        "K.set_image_data_format(\"channels_last\")\n",
        "np.random.seed(0)\n",
        "\n",
        "# Image Dimensions\n",
        "channels = 1\n",
        "height = 28\n",
        "width = 28\n",
        "\n",
        "# Load Training and Test Data from MNIST.\n",
        "(data_train, target_train), (data_test, target_test) = mnist.load_data()\n",
        "\n",
        "data_train[0].shape"
      ]
    },
    {
      "cell_type": "markdown",
      "metadata": {
        "id": "z-4ngByKkiNt"
      },
      "source": [
        "Let's look at an example image."
      ]
    },
    {
      "cell_type": "code",
      "execution_count": 5,
      "metadata": {
        "colab": {
          "base_uri": "https://localhost:8080/",
          "height": 265
        },
        "id": "Tek64-nSkiNu",
        "outputId": "16ae8fd3-b7ae-4159-b62a-135a3084d1b5"
      },
      "outputs": [
        {
          "output_type": "display_data",
          "data": {
            "text/plain": [
              "<Figure size 432x288 with 1 Axes>"
            ],
            "image/png": "[encoded data removed]"
          },
          "metadata": {
            "needs_background": "light"
          }
        }
      ],
      "source": [
        "plt.imshow(data_train[1], origin='upper', interpolation='nearest') \n",
        "plt.show()"
      ]
    },
    {
      "cell_type": "markdown",
      "metadata": {
        "id": "OR3vpsabkiNu"
      },
      "source": [
        "The target matrix has the labels for these images."
      ]
    },
    {
      "cell_type": "code",
      "execution_count": 7,
      "metadata": {
        "colab": {
          "base_uri": "https://localhost:8080/"
        },
        "id": "jsPpEGApkiNv",
        "outputId": "6639aa82-8ff2-4012-dfdb-19bf8d476a1f"
      },
      "outputs": [
        {
          "output_type": "execute_result",
          "data": {
            "text/plain": [
              "0"
            ]
          },
          "metadata": {},
          "execution_count": 7
        }
      ],
      "source": [
        "target_train[1]"
      ]
    },
    {
      "cell_type": "markdown",
      "metadata": {
        "id": "kDrY7P10kiNv"
      },
      "source": [
        "## Feature Creation\n",
        "\n",
        "We reshape the data into an array of 3D tensors and normalize each element so that each pixel value is between 0 and 255."
      ]
    },
    {
      "cell_type": "code",
      "execution_count": 8,
      "metadata": {
        "id": "sSmt4NrvkiNw"
      },
      "outputs": [],
      "source": [
        "# Reshape the image data into features.\n",
        "data_train = data_train.reshape(data_train.shape[0], height, width, channels)\n",
        "data_test = data_test.reshape(data_test.shape[0], height, width, channels)\n",
        "\n",
        "# Normalize the features\n",
        "features_train = data_train / 255\n",
        "features_test = data_test / 255"
      ]
    },
    {
      "cell_type": "markdown",
      "metadata": {
        "id": "Bv-j48vEkiNw"
      },
      "source": [
        "Each potential label/class will be an output node in the neural network and so each possible class needs to be mapped to a value for each target label. We perform this operation with a one-hot encoding of the labels."
      ]
    },
    {
      "cell_type": "code",
      "execution_count": 9,
      "metadata": {
        "id": "tEnhgSFpkiNx"
      },
      "outputs": [],
      "source": [
        "# One-Hot Encode Target\n",
        "target_train = np_utils.to_categorical(target_train)\n",
        "target_test = np_utils.to_categorical(target_test)\n",
        "number_of_classes = target_test.shape[1]"
      ]
    },
    {
      "cell_type": "markdown",
      "metadata": {
        "id": "9s4b-l_SkiNx"
      },
      "source": [
        "## Build the Neural Network"
      ]
    },
    {
      "cell_type": "code",
      "execution_count": 10,
      "metadata": {
        "id": "VU3zEPXrkiNx"
      },
      "outputs": [],
      "source": [
        "network = Sequential()\n",
        "\n",
        "# CNN:\n",
        "# 64 filters\n",
        "# 5x5 window\n",
        "# ReLu Activation\n",
        "network.add(Conv2D(filters=64,\n",
        "                  kernel_size=(5, 5),\n",
        "                  input_shape=(height, width, channels),\n",
        "                  activation='relu'))\n",
        "\n",
        "# Pooling with a 2x2 window\n",
        "network.add(MaxPooling2D(pool_size=(2,2)))\n",
        "\n",
        "# Dropout Layer\n",
        "network.add(Dropout(0.5))\n",
        "\n",
        "# Flattening Layer\n",
        "network.add(Flatten())\n",
        "\n",
        "# Fully Connected Layer\n",
        "network.add(Dense(128, activation='relu'))\n",
        "\n",
        "# Dropout Layer\n",
        "network.add(Dropout(0.5))\n",
        "\n",
        "# Fully Connected Layer with softmax.\n",
        "network.add(Dense(number_of_classes, activation='softmax'))"
      ]
    },
    {
      "cell_type": "markdown",
      "metadata": {
        "id": "cVziT0RWkiNy"
      },
      "source": [
        "Compile and train the neural network."
      ]
    },
    {
      "cell_type": "code",
      "execution_count": 11,
      "metadata": {
        "id": "TUUeaKDJkiNz"
      },
      "outputs": [],
      "source": [
        "network.compile(loss=\"categorical_crossentropy\",\n",
        "                optimizer=\"rmsprop\",\n",
        "                metrics=[\"accuracy\"])"
      ]
    },
    {
      "cell_type": "code",
      "execution_count": 14,
      "metadata": {
        "id": "1bW65DoZkiNz"
      },
      "outputs": [],
      "source": [
        "history = network.fit(features_train,\n",
        "                       target_train,\n",
        "                       epochs=5,\n",
        "                       verbose=0,\n",
        "                       batch_size=1000,\n",
        "                       validation_data=(features_test,target_test))"
      ]
    },
    {
      "cell_type": "markdown",
      "metadata": {
        "id": "h70whY0ekiN0"
      },
      "source": [
        "## Evaluate the Neural Network"
      ]
    },
    {
      "cell_type": "code",
      "execution_count": 15,
      "metadata": {
        "colab": {
          "base_uri": "https://localhost:8080/"
        },
        "id": "wcdjKr_QkiN0",
        "outputId": "5e4db391-ca3c-46ec-9ff6-e82e0b8607b5"
      },
      "outputs": [
        {
          "output_type": "stream",
          "name": "stdout",
          "text": [
            "Training Accuracy: 0.9914\n",
            "Testing Accuracy:  0.9870\n"
          ]
        }
      ],
      "source": [
        "loss, accuracy = network.evaluate(features_train, target_train, verbose=False)\n",
        "print(\"Training Accuracy: {:.4f}\".format(accuracy))\n",
        "loss, accuracy = network.evaluate(features_test, target_test, verbose=False)\n",
        "print(\"Testing Accuracy:  {:.4f}\".format(accuracy))"
      ]
    },
    {
      "cell_type": "code",
      "execution_count": 16,
      "metadata": {
        "colab": {
          "base_uri": "https://localhost:8080/",
          "height": 336
        },
        "id": "WjDM-NGKkiN1",
        "outputId": "fed555b2-efe9-4500-8c0d-8414fd7c1a83"
      },
      "outputs": [
        {
          "output_type": "display_data",
          "data": {
            "text/plain": [
              "<Figure size 864x360 with 2 Axes>"
            ],
            "image/png": "[encoded data removed]"
          },
          "metadata": {
            "needs_background": "light"
          }
        }
      ],
      "source": [
        "def plot_history(history):\n",
        "    acc = history.history['accuracy']\n",
        "    val_acc = history.history['val_accuracy']\n",
        "    loss = history.history['loss']\n",
        "    val_loss = history.history['val_loss']\n",
        "    \n",
        "    x = range(1, len(acc) + 1)\n",
        "\n",
        "    plt.figure(figsize=(12, 5))\n",
        "    plt.subplot(1, 2, 1)\n",
        "    plt.plot(x, acc, 'b', label='Training Accuracy')\n",
        "    plt.plot(x, val_acc, 'r', label='Validation Accuracy')\n",
        "    plt.title('Training and Validation Accuracy')\n",
        "    plt.legend()\n",
        "    \n",
        "    plt.subplot(1, 2, 2)\n",
        "    plt.plot(x, loss, 'b', label='Training Loss')\n",
        "    plt.plot(x, val_loss, 'r', label='Validation Loss')\n",
        "    plt.title('Training and validation loss')\n",
        "    plt.legend()\n",
        "    \n",
        "plot_history(history)"
      ]
    }
  ],
  "metadata": {
    "kernelspec": {
      "display_name": "Python 3",
      "language": "python",
      "name": "python3"
    },
    "language_info": {
      "codemirror_mode": {
        "name": "ipython",
        "version": 3
      },
      "file_extension": ".py",
      "mimetype": "text/x-python",
      "name": "python",
      "nbconvert_exporter": "python",
      "pygments_lexer": "ipython3",
      "version": "3.7.6"
    },
    "colab": {
      "provenance": []
    }
  },
  "nbformat": 4,
  "nbformat_minor": 0
}